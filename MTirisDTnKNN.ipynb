{
 "cells": [
  {
   "cell_type": "code",
   "execution_count": 1,
   "metadata": {},
   "outputs": [],
   "source": [
    "from sklearn.datasets import load_iris\n",
    "from sklearn import tree\n",
    "iris = load_iris()\n",
    "X, y = iris.data, iris.target\n",
    "clf = tree.DecisionTreeClassifier()\n",
    "clf = clf.fit(X, y)"
   ]
  },
  {
   "cell_type": "code",
   "execution_count": 2,
   "metadata": {},
   "outputs": [
    {
     "data": {
      "text/plain": [
       "[Text(167.4, 199.32, 'X[2] <= 2.45\\ngini = 0.667\\nsamples = 150\\nvalue = [50, 50, 50]'),\n",
       " Text(141.64615384615385, 163.07999999999998, 'gini = 0.0\\nsamples = 50\\nvalue = [50, 0, 0]'),\n",
       " Text(193.15384615384616, 163.07999999999998, 'X[3] <= 1.75\\ngini = 0.5\\nsamples = 100\\nvalue = [0, 50, 50]'),\n",
       " Text(103.01538461538462, 126.83999999999999, 'X[2] <= 4.95\\ngini = 0.168\\nsamples = 54\\nvalue = [0, 49, 5]'),\n",
       " Text(51.50769230769231, 90.6, 'X[3] <= 1.65\\ngini = 0.041\\nsamples = 48\\nvalue = [0, 47, 1]'),\n",
       " Text(25.753846153846155, 54.359999999999985, 'gini = 0.0\\nsamples = 47\\nvalue = [0, 47, 0]'),\n",
       " Text(77.26153846153846, 54.359999999999985, 'gini = 0.0\\nsamples = 1\\nvalue = [0, 0, 1]'),\n",
       " Text(154.52307692307693, 90.6, 'X[3] <= 1.55\\ngini = 0.444\\nsamples = 6\\nvalue = [0, 2, 4]'),\n",
       " Text(128.76923076923077, 54.359999999999985, 'gini = 0.0\\nsamples = 3\\nvalue = [0, 0, 3]'),\n",
       " Text(180.27692307692308, 54.359999999999985, 'X[2] <= 5.45\\ngini = 0.444\\nsamples = 3\\nvalue = [0, 2, 1]'),\n",
       " Text(154.52307692307693, 18.119999999999976, 'gini = 0.0\\nsamples = 2\\nvalue = [0, 2, 0]'),\n",
       " Text(206.03076923076924, 18.119999999999976, 'gini = 0.0\\nsamples = 1\\nvalue = [0, 0, 1]'),\n",
       " Text(283.2923076923077, 126.83999999999999, 'X[2] <= 4.85\\ngini = 0.043\\nsamples = 46\\nvalue = [0, 1, 45]'),\n",
       " Text(257.53846153846155, 90.6, 'X[1] <= 3.1\\ngini = 0.444\\nsamples = 3\\nvalue = [0, 1, 2]'),\n",
       " Text(231.7846153846154, 54.359999999999985, 'gini = 0.0\\nsamples = 2\\nvalue = [0, 0, 2]'),\n",
       " Text(283.2923076923077, 54.359999999999985, 'gini = 0.0\\nsamples = 1\\nvalue = [0, 1, 0]'),\n",
       " Text(309.04615384615386, 90.6, 'gini = 0.0\\nsamples = 43\\nvalue = [0, 0, 43]')]"
      ]
     },
     "execution_count": 2,
     "metadata": {},
     "output_type": "execute_result"
    },
    {
     "data": {
      "image/png": "[encoded data removed]",
      "text/plain": [
       "<Figure size 432x288 with 1 Axes>"
      ]
     },
     "metadata": {
      "needs_background": "light"
     },
     "output_type": "display_data"
    }
   ],
   "source": [
    "tree.plot_tree(clf)"
   ]
  },
  {
   "cell_type": "code",
   "execution_count": 3,
   "metadata": {},
   "outputs": [
    {
     "name": "stdout",
     "output_type": "stream",
     "text": [
      "|--- petal width (cm) <= 0.80\n",
      "|   |--- class: 0\n",
      "|--- petal width (cm) >  0.80\n",
      "|   |--- petal width (cm) <= 1.75\n",
      "|   |   |--- class: 1\n",
      "|   |--- petal width (cm) >  1.75\n",
      "|   |   |--- class: 2\n",
      "\n"
     ]
    }
   ],
   "source": [
    "from sklearn.datasets import load_iris\n",
    "from sklearn.tree import DecisionTreeClassifier\n",
    "from sklearn.tree import export_text\n",
    "iris = load_iris()\n",
    "decision_tree = DecisionTreeClassifier(random_state=0, max_depth=2)\n",
    "decision_tree = decision_tree.fit(iris.data, iris.target)\n",
    "r = export_text(decision_tree, feature_names=iris['feature_names'])\n",
    "print(r)\n"
   ]
  },
  {
   "cell_type": "code",
   "execution_count": 4,
   "metadata": {},
   "outputs": [],
   "source": [
    "import pandas as pd\n",
    "import numpy as np\n",
    "import operator\n",
    "import matplotlib.pyplot as plt"
   ]
  },
  {
   "cell_type": "code",
   "execution_count": 7,
   "metadata": {},
   "outputs": [],
   "source": [
    "data = pd.read_csv('iris', header=None, names=['sepal_length', 'sepal_width', 'petal_length', 'petal_width', 'class'])"
   ]
  },
  {
   "cell_type": "code",
   "execution_count": 8,
   "metadata": {},
   "outputs": [
    {
     "name": "stdout",
     "output_type": "stream",
     "text": [
      "                                         sepal_length      sepal_width  \\\n",
      "0                                      digraph Tree {              NaN   \n",
      "1                                  node [shape=box] ;              NaN   \n",
      "2   0 [label=\"X[3] <= 0.8\\ngini = 0.667\\nsamples =...               50   \n",
      "3     1 [label=\"gini = 0.0\\nsamples = 50\\nvalue = [50                0   \n",
      "4                           0 -> 1 [labeldistance=2.5    labelangle=45   \n",
      "5   2 [label=\"X[3] <= 1.75\\ngini = 0.5\\nsamples = ...               50   \n",
      "6                           0 -> 2 [labeldistance=2.5   labelangle=-45   \n",
      "7   3 [label=\"X[2] <= 4.95\\ngini = 0.168\\nsamples ...               49   \n",
      "8                                            2 -> 3 ;              NaN   \n",
      "9   4 [label=\"X[3] <= 1.65\\ngini = 0.041\\nsamples ...               47   \n",
      "10                                           3 -> 4 ;              NaN   \n",
      "11     5 [label=\"gini = 0.0\\nsamples = 47\\nvalue = [0               47   \n",
      "12                                           4 -> 5 ;              NaN   \n",
      "13      6 [label=\"gini = 0.0\\nsamples = 1\\nvalue = [0                0   \n",
      "14                                           4 -> 6 ;              NaN   \n",
      "15  7 [label=\"X[3] <= 1.55\\ngini = 0.444\\nsamples ...                2   \n",
      "16                                           3 -> 7 ;              NaN   \n",
      "17      8 [label=\"gini = 0.0\\nsamples = 3\\nvalue = [0                0   \n",
      "18                                           7 -> 8 ;              NaN   \n",
      "19  9 [label=\"X[2] <= 5.45\\ngini = 0.444\\nsamples ...                2   \n",
      "20                                           7 -> 9 ;              NaN   \n",
      "21     10 [label=\"gini = 0.0\\nsamples = 2\\nvalue = [0                2   \n",
      "22                                          9 -> 10 ;              NaN   \n",
      "23     11 [label=\"gini = 0.0\\nsamples = 1\\nvalue = [0                0   \n",
      "24                                          9 -> 11 ;              NaN   \n",
      "25  12 [label=\"X[2] <= 4.85\\ngini = 0.043\\nsamples...                1   \n",
      "26                                          2 -> 12 ;              NaN   \n",
      "27  13 [label=\"X[0] <= 5.95\\ngini = 0.444\\nsamples...                1   \n",
      "28                                         12 -> 13 ;              NaN   \n",
      "29     14 [label=\"gini = 0.0\\nsamples = 1\\nvalue = [0                1   \n",
      "30                                         13 -> 14 ;              NaN   \n",
      "31     15 [label=\"gini = 0.0\\nsamples = 2\\nvalue = [0                0   \n",
      "32                                         13 -> 15 ;              NaN   \n",
      "33    16 [label=\"gini = 0.0\\nsamples = 43\\nvalue = [0                0   \n",
      "34                                         12 -> 16 ;              NaN   \n",
      "35                                                  }              NaN   \n",
      "\n",
      "             petal_length  petal_width  class  \n",
      "0                     NaN          NaN    NaN  \n",
      "1                     NaN          NaN    NaN  \n",
      "2                 50]\"] ;          NaN    NaN  \n",
      "3                  0]\"] ;          NaN    NaN  \n",
      "4     headlabel=\"True\"] ;          NaN    NaN  \n",
      "5                 50]\"] ;          NaN    NaN  \n",
      "6    headlabel=\"False\"] ;          NaN    NaN  \n",
      "7                  5]\"] ;          NaN    NaN  \n",
      "8                     NaN          NaN    NaN  \n",
      "9                  1]\"] ;          NaN    NaN  \n",
      "10                    NaN          NaN    NaN  \n",
      "11                 0]\"] ;          NaN    NaN  \n",
      "12                    NaN          NaN    NaN  \n",
      "13                 1]\"] ;          NaN    NaN  \n",
      "14                    NaN          NaN    NaN  \n",
      "15                 4]\"] ;          NaN    NaN  \n",
      "16                    NaN          NaN    NaN  \n",
      "17                 3]\"] ;          NaN    NaN  \n",
      "18                    NaN          NaN    NaN  \n",
      "19                 1]\"] ;          NaN    NaN  \n",
      "20                    NaN          NaN    NaN  \n",
      "21                 0]\"] ;          NaN    NaN  \n",
      "22                    NaN          NaN    NaN  \n",
      "23                 1]\"] ;          NaN    NaN  \n",
      "24                    NaN          NaN    NaN  \n",
      "25                45]\"] ;          NaN    NaN  \n",
      "26                    NaN          NaN    NaN  \n",
      "27                 2]\"] ;          NaN    NaN  \n",
      "28                    NaN          NaN    NaN  \n",
      "29                 0]\"] ;          NaN    NaN  \n",
      "30                    NaN          NaN    NaN  \n",
      "31                 2]\"] ;          NaN    NaN  \n",
      "32                    NaN          NaN    NaN  \n",
      "33                43]\"] ;          NaN    NaN  \n",
      "34                    NaN          NaN    NaN  \n",
      "35                    NaN          NaN    NaN  \n"
     ]
    }
   ],
   "source": [
    "print(data)"
   ]
  },
  {
   "cell_type": "code",
   "execution_count": 9,
   "metadata": {},
   "outputs": [
    {
     "name": "stdout",
     "output_type": "stream",
     "text": [
      "Development Set:\n",
      "                                          sepal_length      sepal_width  \\\n",
      "34                                         12 -> 16 ;              NaN   \n",
      "35                                                  }              NaN   \n",
      "8                                            2 -> 3 ;              NaN   \n",
      "4                           0 -> 1 [labeldistance=2.5    labelangle=45   \n",
      "19  9 [label=\"X[2] <= 5.45\\ngini = 0.444\\nsamples ...                2   \n",
      "14                                           4 -> 6 ;              NaN   \n",
      "12                                           4 -> 5 ;              NaN   \n",
      "31     15 [label=\"gini = 0.0\\nsamples = 2\\nvalue = [0                0   \n",
      "11     5 [label=\"gini = 0.0\\nsamples = 47\\nvalue = [0               47   \n",
      "32                                         13 -> 15 ;              NaN   \n",
      "27  13 [label=\"X[0] <= 5.95\\ngini = 0.444\\nsamples...                1   \n",
      "33    16 [label=\"gini = 0.0\\nsamples = 43\\nvalue = [0                0   \n",
      "2   0 [label=\"X[3] <= 0.8\\ngini = 0.667\\nsamples =...               50   \n",
      "20                                           7 -> 9 ;              NaN   \n",
      "22                                          9 -> 10 ;              NaN   \n",
      "5   2 [label=\"X[3] <= 1.75\\ngini = 0.5\\nsamples = ...               50   \n",
      "21     10 [label=\"gini = 0.0\\nsamples = 2\\nvalue = [0                2   \n",
      "29     14 [label=\"gini = 0.0\\nsamples = 1\\nvalue = [0                1   \n",
      "28                                         12 -> 13 ;              NaN   \n",
      "1                                  node [shape=box] ;              NaN   \n",
      "3     1 [label=\"gini = 0.0\\nsamples = 50\\nvalue = [50                0   \n",
      "25  12 [label=\"X[2] <= 4.85\\ngini = 0.043\\nsamples...                1   \n",
      "9   4 [label=\"X[3] <= 1.65\\ngini = 0.041\\nsamples ...               47   \n",
      "0                                      digraph Tree {              NaN   \n",
      "6                           0 -> 2 [labeldistance=2.5   labelangle=-45   \n",
      "26                                          2 -> 12 ;              NaN   \n",
      "17      8 [label=\"gini = 0.0\\nsamples = 3\\nvalue = [0                0   \n",
      "\n",
      "             petal_length  petal_width  class  \n",
      "34                    NaN          NaN    NaN  \n",
      "35                    NaN          NaN    NaN  \n",
      "8                     NaN          NaN    NaN  \n",
      "4     headlabel=\"True\"] ;          NaN    NaN  \n",
      "19                 1]\"] ;          NaN    NaN  \n",
      "14                    NaN          NaN    NaN  \n",
      "12                    NaN          NaN    NaN  \n",
      "31                 2]\"] ;          NaN    NaN  \n",
      "11                 0]\"] ;          NaN    NaN  \n",
      "32                    NaN          NaN    NaN  \n",
      "27                 2]\"] ;          NaN    NaN  \n",
      "33                43]\"] ;          NaN    NaN  \n",
      "2                 50]\"] ;          NaN    NaN  \n",
      "20                    NaN          NaN    NaN  \n",
      "22                    NaN          NaN    NaN  \n",
      "5                 50]\"] ;          NaN    NaN  \n",
      "21                 0]\"] ;          NaN    NaN  \n",
      "29                 0]\"] ;          NaN    NaN  \n",
      "28                    NaN          NaN    NaN  \n",
      "1                     NaN          NaN    NaN  \n",
      "3                  0]\"] ;          NaN    NaN  \n",
      "25                45]\"] ;          NaN    NaN  \n",
      "9                  1]\"] ;          NaN    NaN  \n",
      "0                     NaN          NaN    NaN  \n",
      "6    headlabel=\"False\"] ;          NaN    NaN  \n",
      "26                    NaN          NaN    NaN  \n",
      "17                 3]\"] ;          NaN    NaN   \n",
      "\n",
      "Test Set:\n",
      "                                          sepal_length sepal_width  \\\n",
      "23     11 [label=\"gini = 0.0\\nsamples = 1\\nvalue = [0           0   \n",
      "7   3 [label=\"X[2] <= 4.95\\ngini = 0.168\\nsamples ...          49   \n",
      "13      6 [label=\"gini = 0.0\\nsamples = 1\\nvalue = [0           0   \n",
      "24                                          9 -> 11 ;         NaN   \n",
      "18                                           7 -> 8 ;         NaN   \n",
      "10                                           3 -> 4 ;         NaN   \n",
      "16                                           3 -> 7 ;         NaN   \n",
      "15  7 [label=\"X[3] <= 1.55\\ngini = 0.444\\nsamples ...           2   \n",
      "30                                         13 -> 14 ;         NaN   \n",
      "\n",
      "   petal_length  petal_width  class  \n",
      "23       1]\"] ;          NaN    NaN  \n",
      "7        5]\"] ;          NaN    NaN  \n",
      "13       1]\"] ;          NaN    NaN  \n",
      "24          NaN          NaN    NaN  \n",
      "18          NaN          NaN    NaN  \n",
      "10          NaN          NaN    NaN  \n",
      "16          NaN          NaN    NaN  \n",
      "15       4]\"] ;          NaN    NaN  \n",
      "30          NaN          NaN    NaN  \n"
     ]
    }
   ],
   "source": [
    "indices = np.random.permutation(data.shape[0])\n",
    "div = int(0.75 * len(indices))\n",
    "development_id, test_id = indices[:div], indices[div:]\n",
    "\n",
    "development_set, test_set = data.loc[development_id,:], data.loc[test_id,:]\n",
    "print(\"Development Set:\\n\", development_set, \"\\n\\nTest Set:\\n\", test_set)"
   ]
  },
  {
   "cell_type": "code",
   "execution_count": 104,
   "metadata": {},
   "outputs": [
    {
     "data": {
      "text/plain": [
       "1.0"
      ]
     },
     "execution_count": 104,
     "metadata": {},
     "output_type": "execute_result"
    }
   ],
   "source": [
    "from sklearn.metrics import accuracy_score\n",
    "y_pred = [3,4,5,6]\n",
    "y_true = [3,4,5,6]\n",
    "accuracy_score(y_true, y_pred)\n",
    "accuracy_score(y_true, y_pred)\n"
   ]
  },
  {
   "cell_type": "code",
   "execution_count": 95,
   "metadata": {},
   "outputs": [],
   "source": [
    "from sklearn import datasets\n",
    "from sklearn.model_selection import train_test_split , KFold\n",
    "from sklearn.preprocessing import Normalizer\n",
    "from sklearn.metrics import accuracy_score\n",
    "from sklearn.neighbors import KNeighborsClassifier\n",
    "\n",
    "from collections import Counter\n",
    "import numpy as np\n",
    "import pandas as pd"
   ]
  },
  {
   "cell_type": "code",
   "execution_count": 96,
   "metadata": {},
   "outputs": [],
   "source": [
    "iris = datasets.load_iris()\n",
    "iris= pd.DataFrame(data= np.c_[iris['data'], iris['target']],columns= iris['feature_names'] + ['target'])"
   ]
  },
  {
   "cell_type": "code",
   "execution_count": 97,
   "metadata": {},
   "outputs": [
    {
     "data": {
      "text/html": [
       "<div>\n",
       "<style scoped>\n",
       "    .dataframe tbody tr th:only-of-type {\n",
       "        vertical-align: middle;\n",
       "    }\n",
       "\n",
       "    .dataframe tbody tr th {\n",
       "        vertical-align: top;\n",
       "    }\n",
       "\n",
       "    .dataframe thead th {\n",
       "        text-align: right;\n",
       "    }\n",
       "</style>\n",
       "<table border=\"1\" class=\"dataframe\">\n",
       "  <thead>\n",
       "    <tr style=\"text-align: right;\">\n",
       "      <th></th>\n",
       "      <th>sepal length (cm)</th>\n",
       "      <th>sepal width (cm)</th>\n",
       "      <th>petal length (cm)</th>\n",
       "      <th>petal width (cm)</th>\n",
       "      <th>target</th>\n",
       "    </tr>\n",
       "  </thead>\n",
       "  <tbody>\n",
       "    <tr>\n",
       "      <th>count</th>\n",
       "      <td>150.000000</td>\n",
       "      <td>150.000000</td>\n",
       "      <td>150.000000</td>\n",
       "      <td>150.000000</td>\n",
       "      <td>150.000000</td>\n",
       "    </tr>\n",
       "    <tr>\n",
       "      <th>mean</th>\n",
       "      <td>5.843333</td>\n",
       "      <td>3.057333</td>\n",
       "      <td>3.758000</td>\n",
       "      <td>1.199333</td>\n",
       "      <td>1.000000</td>\n",
       "    </tr>\n",
       "    <tr>\n",
       "      <th>std</th>\n",
       "      <td>0.828066</td>\n",
       "      <td>0.435866</td>\n",
       "      <td>1.765298</td>\n",
       "      <td>0.762238</td>\n",
       "      <td>0.819232</td>\n",
       "    </tr>\n",
       "    <tr>\n",
       "      <th>min</th>\n",
       "      <td>4.300000</td>\n",
       "      <td>2.000000</td>\n",
       "      <td>1.000000</td>\n",
       "      <td>0.100000</td>\n",
       "      <td>0.000000</td>\n",
       "    </tr>\n",
       "    <tr>\n",
       "      <th>25%</th>\n",
       "      <td>5.100000</td>\n",
       "      <td>2.800000</td>\n",
       "      <td>1.600000</td>\n",
       "      <td>0.300000</td>\n",
       "      <td>0.000000</td>\n",
       "    </tr>\n",
       "    <tr>\n",
       "      <th>50%</th>\n",
       "      <td>5.800000</td>\n",
       "      <td>3.000000</td>\n",
       "      <td>4.350000</td>\n",
       "      <td>1.300000</td>\n",
       "      <td>1.000000</td>\n",
       "    </tr>\n",
       "    <tr>\n",
       "      <th>75%</th>\n",
       "      <td>6.400000</td>\n",
       "      <td>3.300000</td>\n",
       "      <td>5.100000</td>\n",
       "      <td>1.800000</td>\n",
       "      <td>2.000000</td>\n",
       "    </tr>\n",
       "    <tr>\n",
       "      <th>max</th>\n",
       "      <td>7.900000</td>\n",
       "      <td>4.400000</td>\n",
       "      <td>6.900000</td>\n",
       "      <td>2.500000</td>\n",
       "      <td>2.000000</td>\n",
       "    </tr>\n",
       "  </tbody>\n",
       "</table>\n",
       "</div>"
      ],
      "text/plain": [
       "       sepal length (cm)  sepal width (cm)  petal length (cm)  \\\n",
       "count         150.000000        150.000000         150.000000   \n",
       "mean            5.843333          3.057333           3.758000   \n",
       "std             0.828066          0.435866           1.765298   \n",
       "min             4.300000          2.000000           1.000000   \n",
       "25%             5.100000          2.800000           1.600000   \n",
       "50%             5.800000          3.000000           4.350000   \n",
       "75%             6.400000          3.300000           5.100000   \n",
       "max             7.900000          4.400000           6.900000   \n",
       "\n",
       "       petal width (cm)      target  \n",
       "count        150.000000  150.000000  \n",
       "mean           1.199333    1.000000  \n",
       "std            0.762238    0.819232  \n",
       "min            0.100000    0.000000  \n",
       "25%            0.300000    0.000000  \n",
       "50%            1.300000    1.000000  \n",
       "75%            1.800000    2.000000  \n",
       "max            2.500000    2.000000  "
      ]
     },
     "execution_count": 97,
     "metadata": {},
     "output_type": "execute_result"
    }
   ],
   "source": [
    "iris.describe()"
   ]
  },
  {
   "cell_type": "code",
   "execution_count": 98,
   "metadata": {},
   "outputs": [],
   "source": [
    "x= iris.iloc[:, :-1]\n",
    "y= iris.iloc[:, -1]"
   ]
  },
  {
   "cell_type": "code",
   "execution_count": 99,
   "metadata": {},
   "outputs": [],
   "source": [
    "x_train, x_test, y_train, y_test= train_test_split(x, y,test_size= 0.2,shuffle= True,random_state= 0)\n",
    "x_train= np.asarray(x_train)\n",
    "y_train= np.asarray(y_train)\n",
    "\n",
    "x_test= np.asarray(x_test)\n",
    "y_test= np.asarray(y_test)"
   ]
  },
  {
   "cell_type": "code",
   "execution_count": 100,
   "metadata": {},
   "outputs": [
    {
     "name": "stdout",
     "output_type": "stream",
     "text": [
      "training set size: 120 samples \n",
      "test set size: 30 samples\n"
     ]
    }
   ],
   "source": [
    "print(f'training set size: {x_train.shape[0]} samples \\ntest set size: {x_test.shape[0]} samples')"
   ]
  },
  {
   "cell_type": "code",
   "execution_count": 101,
   "metadata": {},
   "outputs": [],
   "source": [
    "scaler= Normalizer().fit(x_train)\n",
    "normalized_x_train= scaler.transform(x_train)\n",
    "normalized_x_test= scaler.transform(x_test)"
   ]
  },
  {
   "cell_type": "code",
   "execution_count": 102,
   "metadata": {},
   "outputs": [
    {
     "name": "stdout",
     "output_type": "stream",
     "text": [
      "x train before Normalization\n",
      "[[6.4 3.1 5.5 1.8]\n",
      " [5.4 3.  4.5 1.5]\n",
      " [5.2 3.5 1.5 0.2]\n",
      " [6.1 3.  4.9 1.8]\n",
      " [6.4 2.8 5.6 2.2]]\n",
      "\n",
      "x train after Normalization\n",
      "[[0.69804799 0.338117   0.59988499 0.196326  ]\n",
      " [0.69333409 0.38518561 0.57777841 0.1925928 ]\n",
      " [0.80641965 0.54278246 0.23262105 0.03101614]\n",
      " [0.71171214 0.35002236 0.57170319 0.21001342]\n",
      " [0.69417747 0.30370264 0.60740528 0.2386235 ]]\n"
     ]
    }
   ],
   "source": [
    "print('x train before Normalization')\n",
    "print(x_train[0:5])\n",
    "print('\\nx train after Normalization')\n",
    "print(normalized_x_train[0:5])"
   ]
  },
  {
   "cell_type": "code",
   "execution_count": 105,
   "metadata": {},
   "outputs": [
    {
     "data": {
      "text/plain": [
       "0.9666666666666667"
      ]
     },
     "execution_count": 105,
     "metadata": {},
     "output_type": "execute_result"
    }
   ],
   "source": [
    "knn_3 = KNeighborsClassifier(n_neighbors = 3)\n",
    "knn_3.fit(x_train, y_train)\n",
    "y_predict_k_3 = knn_3.predict(x_test)\n",
    "accuracy_score(y_test, y_predict_k_3)"
   ]
  },
  {
   "cell_type": "code",
   "execution_count": 103,
   "metadata": {},
   "outputs": [
    {
     "data": {
      "text/plain": [
       "1.0"
      ]
     },
     "execution_count": 103,
     "metadata": {},
     "output_type": "execute_result"
    }
   ],
   "source": [
    "knn_4 = KNeighborsClassifier(n_neighbors = 4)\n",
    "knn_4.fit(x_train, y_train)\n",
    "y_predict_k_4 = knn_4.predict(x_test)\n",
    "accuracy_score(y_test, y_predict_k_4)"
   ]
  },
  {
   "cell_type": "code",
   "execution_count": 106,
   "metadata": {},
   "outputs": [
    {
     "data": {
      "text/plain": [
       "0.9666666666666667"
      ]
     },
     "execution_count": 106,
     "metadata": {},
     "output_type": "execute_result"
    }
   ],
   "source": [
    "knn_5 = KNeighborsClassifier(n_neighbors = 5)\n",
    "knn_5.fit(x_train, y_train)\n",
    "y_predict_k_5 = knn_5.predict(x_test)\n",
    "accuracy_score(y_test, y_predict_k_5)"
   ]
  },
  {
   "cell_type": "code",
   "execution_count": 107,
   "metadata": {},
   "outputs": [
    {
     "data": {
      "text/plain": [
       "1.0"
      ]
     },
     "execution_count": 107,
     "metadata": {},
     "output_type": "execute_result"
    }
   ],
   "source": [
    "knn_6 = KNeighborsClassifier(n_neighbors = 6)\n",
    "knn_6.fit(x_train, y_train)\n",
    "y_predict_k_6 = knn_6.predict(x_test)\n",
    "accuracy_score(y_test, y_predict_k_6)"
   ]
  },
  {
   "cell_type": "code",
   "execution_count": 112,
   "metadata": {},
   "outputs": [],
   "source": [
    "from sklearn import svm, datasets\n",
    "from sklearn.metrics import confusion_matrix"
   ]
  },
  {
   "cell_type": "code",
   "execution_count": 115,
   "metadata": {},
   "outputs": [],
   "source": [
    "classifier = svm.SVC(kernel='linear')\n",
    "y_pred = classifier.fit(x_train, y_train).predict(x_test)"
   ]
  },
  {
   "cell_type": "code",
   "execution_count": 117,
   "metadata": {},
   "outputs": [
    {
     "name": "stdout",
     "output_type": "stream",
     "text": [
      "[[11  0  0]\n",
      " [ 0 13  0]\n",
      " [ 0  0  6]]\n"
     ]
    }
   ],
   "source": [
    "cm = confusion_matrix(y_test, y_pred)\n",
    "print(cm)"
   ]
  },
  {
   "cell_type": "code",
   "execution_count": null,
   "metadata": {},
   "outputs": [],
   "source": []
  }
 ],
 "metadata": {
  "kernelspec": {
   "display_name": "Python 3",
   "language": "python",
   "name": "python3"
  },
  "language_info": {
   "codemirror_mode": {
    "name": "ipython",
    "version": 3
   },
   "file_extension": ".py",
   "mimetype": "text/x-python",
   "name": "python",
   "nbconvert_exporter": "python",
   "pygments_lexer": "ipython3",
   "version": "3.7.6"
  }
 },
 "nbformat": 4,
 "nbformat_minor": 4
}
